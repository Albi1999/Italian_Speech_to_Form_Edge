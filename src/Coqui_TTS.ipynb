{
  "cells": [
    {
      "cell_type": "code",
      "execution_count": null,
      "metadata": {
        "id": "6owcHtPSmRKh"
      },
      "outputs": [],
      "source": [
        "!pip install -q TTS"
      ]
    },
    {
      "cell_type": "code",
      "execution_count": null,
      "metadata": {
        "colab": {
          "base_uri": "https://localhost:8080/",
          "height": 1000
        },
        "id": "QRmPoRlakSnc",
        "outputId": "a36985ad-31ec-4a83-da24-e0e596a5cf63"
      },
      "outputs": [],
      "source": [
        "import os, json\n",
        "from TTS.api import TTS\n",
        "from tqdm import tqdm\n",
        "from google.colab import files\n",
        "uploaded = files.upload()\n",
        "\n",
        "with open(\"samples.json\", \"r\", encoding=\"utf-8\") as f:\n",
        "    all_samples = json.load(f)\n",
        "\n",
        "half = len(all_samples) // 2\n",
        "samples_split = {\n",
        "    \"tts_models/it/mai_female/glow-tts\": {\n",
        "        \"samples\": all_samples[:half],\n",
        "        \"gender\": \"female\"\n",
        "    },\n",
        "    \"tts_models/it/mai_male/glow-tts\": {\n",
        "        \"samples\": all_samples[half:],\n",
        "        \"gender\": \"male\"\n",
        "    }\n",
        "}\n",
        "\n",
        "base_output_dir = \"coqui_output\"\n",
        "os.makedirs(base_output_dir, exist_ok=True)\n",
        "\n",
        "for model_name, data in samples_split.items():\n",
        "    samples = data[\"samples\"]\n",
        "    gender = data[\"gender\"]\n",
        "    subfolder = os.path.join(base_output_dir, gender)\n",
        "    os.makedirs(subfolder, exist_ok=True)\n",
        "\n",
        "    tts = TTS(model_name=model_name)\n",
        "\n",
        "    for i, sample in tqdm(enumerate(samples), total=len(samples), desc=f\"{gender}\"):\n",
        "        text = sample[\"text\"]\n",
        "        output_filename = f\"sample_{i}_{gender}.wav\"\n",
        "        output_path = os.path.join(subfolder, output_filename)\n",
        "\n",
        "        tts.tts_to_file(text=text, file_path=output_path)\n",
        "\n",
        "        sample_copy = sample.copy()\n",
        "        sample_copy[\"coqui_audio_path\"] = os.path.join(gender, output_filename)\n",
        "        sample_copy[\"coqui_model\"] = model_name\n",
        "        sample_copy[\"speaker_gender\"] = gender\n",
        "        samples[i] = sample_copy\n",
        "\n",
        "    with open(os.path.join(subfolder, \"samples_coqui.json\"), \"w\", encoding=\"utf-8\") as f:\n",
        "        json.dump(samples, f, indent=2, ensure_ascii=False)\n",
        "\n",
        "# Merge all samples into one global file\n",
        "all_final_samples = []\n",
        "\n",
        "for gender in [\"female\", \"male\"]:\n",
        "    with open(os.path.join(base_output_dir, gender, \"samples_coqui.json\"), \"r\", encoding=\"utf-8\") as f:\n",
        "        all_final_samples.extend(json.load(f))\n",
        "\n",
        "# Save global metadata\n",
        "with open(os.path.join(base_output_dir, \"all_samples_coqui.json\"), \"w\", encoding=\"utf-8\") as f:\n",
        "    json.dump(all_final_samples, f, indent=2, ensure_ascii=False)\n",
        "\n",
        "print(\"Global metadata saved at:\", os.path.join(base_output_dir, \"all_samples_coqui.json\"))\n",
        "\n",
        "# Create a single zip file containing both folders\n",
        "!zip -r coqui_output.zip coqui_output\n",
        "files.download(\"coqui_output.zip\")"
      ]
    }
  ],
  "metadata": {
    "colab": {
      "provenance": []
    },
    "kernelspec": {
      "display_name": ".venv",
      "language": "python",
      "name": "python3"
    },
    "language_info": {
      "name": "python",
      "version": "3.12.4"
    }
  },
  "nbformat": 4,
  "nbformat_minor": 0
}
